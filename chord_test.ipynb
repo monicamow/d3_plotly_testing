{
 "cells": [
  {
   "cell_type": "code",
   "execution_count": 1,
   "metadata": {},
   "outputs": [
    {
     "data": {
      "application/javascript": [
       "require.config({\n",
       "    paths: {\n",
       "        d3: 'https://d3js.org/d3.v5.min'\n",
       "    }\n",
       "});"
      ],
      "text/plain": [
       "<IPython.core.display.Javascript object>"
      ]
     },
     "metadata": {},
     "output_type": "display_data"
    }
   ],
   "source": [
    "%%javascript\n",
    "require.config({\n",
    "    paths: {\n",
    "        d3: 'https://d3js.org/d3.v5.min'\n",
    "    }\n",
    "});"
   ]
  },
  {
   "cell_type": "code",
   "execution_count": 2,
   "metadata": {},
   "outputs": [
    {
     "data": {
      "text/html": [
       "<!-- Create a div where the graph will take place -->\n",
       "<div id=\"my_dataviz\"></div>"
      ],
      "text/plain": [
       "<IPython.core.display.HTML object>"
      ]
     },
     "metadata": {},
     "output_type": "display_data"
    }
   ],
   "source": [
    "%%html\n",
    "<!-- Create a div where the graph will take place -->\n",
    "<div id=\"my_dataviz\"></div>"
   ]
  },
  {
   "cell_type": "code",
   "execution_count": 3,
   "metadata": {},
   "outputs": [
    {
     "data": {
      "application/javascript": [
       "(function(element) {\n",
       "    require(['d3'], function(d3) {   \n",
       "        // set color palette\n",
       "        var fill = d3.scaleOrdinal(d3.schemeCategory10);\n",
       "        \n",
       "        // create the svg area\n",
       "        var svg = d3.select(\"#my_dataviz\")\n",
       "          .append(\"svg\")\n",
       "            .attr(\"width\", 440)\n",
       "            .attr(\"height\", 440)\n",
       "          .append(\"g\")\n",
       "            .attr(\"transform\", \"translate(220,220)\")\n",
       "\n",
       "        // create input data: a square matrix that provides flow between entities\n",
       "        var matrix = [\n",
       "          [11975,  5871, 8916, 2868],\n",
       "          [ 1951, 10048, 2060, 6171],\n",
       "          [ 8010, 16145, 8090, 8045],\n",
       "          [ 1013,   990,  940, 6907]\n",
       "        ];\n",
       "\n",
       "        // give this matrix to d3.chord(): it will calculates all the info we need to draw arc and ribbon\n",
       "        var res = d3.chord()\n",
       "            .padAngle(0.05)     // padding between entities (black arc)\n",
       "            .sortSubgroups(d3.descending)\n",
       "            (matrix)\n",
       "\n",
       "        // add the groups on the inner part of the circle\n",
       "        svg\n",
       "          .datum(res)\n",
       "          .append(\"g\")\n",
       "          .selectAll(\"g\")\n",
       "          .data(function(d) { return d.groups; })\n",
       "          .enter()\n",
       "          .append(\"g\")\n",
       "          .append(\"path\")\n",
       "            .style(\"fill\", function(d) {\n",
       "                return d.index < 4 ? '#444444' : fill(d.index);\n",
       "            })\n",
       "            .style(\"stroke\", \"black\")\n",
       "            .attr(\"d\", d3.arc()\n",
       "              .innerRadius(200)\n",
       "              .outerRadius(210)\n",
       "            )\n",
       "        \n",
       "        // Add the links between groups\n",
       "        svg\n",
       "          .datum(res)\n",
       "          .append(\"g\")\n",
       "          .selectAll(\"path\")\n",
       "          .data(function(d) { return d; })\n",
       "          .enter()\n",
       "          .append(\"path\")\n",
       "            .attr(\"d\", d3.ribbon()\n",
       "              .radius(200)\n",
       "            )\n",
       "            .style(\"fill\", function(d) { return fill(d.target.index); })\n",
       "            .style(\"stroke\", \"black\");\n",
       "    })\n",
       "})(element);"
      ],
      "text/plain": [
       "<IPython.core.display.Javascript object>"
      ]
     },
     "metadata": {},
     "output_type": "display_data"
    }
   ],
   "source": [
    "%%javascript\n",
    "(function(element) {\n",
    "    require(['d3'], function(d3) {   \n",
    "        // set color palette\n",
    "        var fill = d3.scaleOrdinal(d3.schemeCategory10);\n",
    "        \n",
    "        // create the svg area\n",
    "        var svg = d3.select(\"#my_dataviz\")\n",
    "          .append(\"svg\")\n",
    "            .attr(\"width\", 440)\n",
    "            .attr(\"height\", 440)\n",
    "          .append(\"g\")\n",
    "            .attr(\"transform\", \"translate(220,220)\")\n",
    "\n",
    "        // create input data: a square matrix that provides flow between entities\n",
    "        var matrix = [\n",
    "          [11975,  5871, 8916, 2868],\n",
    "          [ 1951, 10048, 2060, 6171],\n",
    "          [ 8010, 16145, 8090, 8045],\n",
    "          [ 1013,   990,  940, 6907]\n",
    "        ];\n",
    "\n",
    "        // give this matrix to d3.chord(): it will calculates all the info we need to draw arc and ribbon\n",
    "        var res = d3.chord()\n",
    "            .padAngle(0.05)     // padding between entities (black arc)\n",
    "            .sortSubgroups(d3.descending)\n",
    "            (matrix)\n",
    "\n",
    "        // add the groups on the inner part of the circle\n",
    "        svg\n",
    "          .datum(res)\n",
    "          .append(\"g\")\n",
    "          .selectAll(\"g\")\n",
    "          .data(function(d) { return d.groups; })\n",
    "          .enter()\n",
    "          .append(\"g\")\n",
    "          .append(\"path\")\n",
    "            .style(\"fill\", function(d) {\n",
    "                return d.index < 4 ? '#444444' : fill(d.index);\n",
    "            })\n",
    "            .style(\"stroke\", \"black\")\n",
    "            .attr(\"d\", d3.arc()\n",
    "              .innerRadius(200)\n",
    "              .outerRadius(210)\n",
    "            )\n",
    "        \n",
    "        // Add the links between groups\n",
    "        svg\n",
    "          .datum(res)\n",
    "          .append(\"g\")\n",
    "          .selectAll(\"path\")\n",
    "          .data(function(d) { return d; })\n",
    "          .enter()\n",
    "          .append(\"path\")\n",
    "            .attr(\"d\", d3.ribbon()\n",
    "              .radius(200)\n",
    "            )\n",
    "            .style(\"fill\", function(d) { return fill(d.target.index); })\n",
    "            .style(\"stroke\", \"black\");\n",
    "    })\n",
    "})(element);"
   ]
  },
  {
   "cell_type": "code",
   "execution_count": 4,
   "metadata": {},
   "outputs": [],
   "source": [
    "#https://sdk.gooddata.com/gooddata-js/example/chord-chart-to-analyze-sales\n",
    "# https://www.d3-graph-gallery.com/graph/chord_axis_labels.html\n",
    "# https://stackoverflow.com/questions/52436747/how-to-add-labels-to-d3-chord-diagram-group-arcs-on-arc-centroid"
   ]
  },
  {
   "cell_type": "code",
   "execution_count": 5,
   "metadata": {},
   "outputs": [
    {
     "data": {
      "text/html": [
       "<!-- Create a div where the graph will take place -->\n",
       "<div id=\"my_dataviz2\"></div>"
      ],
      "text/plain": [
       "<IPython.core.display.HTML object>"
      ]
     },
     "metadata": {},
     "output_type": "display_data"
    }
   ],
   "source": [
    "%%html\n",
    "<!-- Create a div where the graph will take place -->\n",
    "<div id=\"my_dataviz2\"></div>"
   ]
  },
  {
   "cell_type": "raw",
   "metadata": {},
   "source": [
    "%%javascript\n",
    "(function(element) {\n",
    "    require(['d3'], function(d3) {  \n",
    "        // create the svg area\n",
    "        var svg = d3.select(\"#my_dataviz2\")\n",
    "          .append(\"svg\")\n",
    "            .attr(\"width\", 500)\n",
    "            .attr(\"height\", 500)\n",
    "          .append(\"g\")\n",
    "            .attr(\"transform\", \"translate(250,250)\")\n",
    "\n",
    "        // create a matrix\n",
    "        var matrix = [\n",
    "          [11,  58, 89, 28],\n",
    "          [ 51, 18, 20, 61],\n",
    "          [ 80, 145, 80, 85],\n",
    "          [ 103,   99,  40, 71]\n",
    "        ];\n",
    "\n",
    "        // give this matrix to d3.chord(): it will calculates all the info we need to draw arc and ribbon\n",
    "        var res = d3.chord()\n",
    "            .padAngle(0.05)\n",
    "            .sortSubgroups(d3.descending)\n",
    "            (matrix)\n",
    "\n",
    "        // Add the links between groups\n",
    "        svg\n",
    "          .datum(res)\n",
    "          .append(\"g\")\n",
    "          .selectAll(\"path\")\n",
    "          .data(function(d) { return d; })\n",
    "          .enter()\n",
    "          .append(\"path\")\n",
    "            .attr(\"d\", d3.ribbon()\n",
    "              .radius(190)\n",
    "            )\n",
    "            .style(\"fill\", \"#69b3a2\")\n",
    "            .style(\"stroke\", \"black\");\n",
    "\n",
    "        // this group object use each group of the data.groups object\n",
    "        var group = svg\n",
    "          .datum(res)\n",
    "          .append(\"g\")\n",
    "          .selectAll(\"g\")\n",
    "          .data(function(d) { return d.groups; })\n",
    "          .enter()\n",
    "\n",
    "        // add the group arcs on the outer part of the circle\n",
    "        group.append(\"g\")\n",
    "            .append(\"path\")\n",
    "            .style(\"fill\", \"grey\")\n",
    "            .style(\"stroke\", \"black\")\n",
    "            .attr(\"d\", d3.arc()\n",
    "              .innerRadius(190)\n",
    "              .outerRadius(200)\n",
    "            )\n",
    "\n",
    "        // Add the ticks\n",
    "        group\n",
    "          .selectAll(\".group-tick\")\n",
    "          .data(function(d) { return groupTicks(d, 25); })    // Controls the number of ticks: one tick each 25 here.\n",
    "          .enter()\n",
    "          .append(\"g\")\n",
    "            .attr(\"transform\", function(d) { return \"rotate(\" + (d.angle * 180 / Math.PI - 90) + \") translate(\" + 200 + \",0)\"; })\n",
    "          .append(\"line\")               // By default, x1 = y1 = y2 = 0, so no need to specify it.\n",
    "            .attr(\"x2\", 6)\n",
    "            .attr(\"stroke\", \"black\")\n",
    "\n",
    "        // Add the labels of a few ticks:\n",
    "        group\n",
    "          .selectAll(\".group-tick-label\")\n",
    "          .data(function(d) { return groupTicks(d, 25); })\n",
    "          .enter()\n",
    "          .filter(function(d) { return d.value % 25 === 0; })\n",
    "          .append(\"g\")\n",
    "            .attr(\"transform\", function(d) { return \"rotate(\" + (d.angle * 180 / Math.PI - 90) + \") translate(\" + 200 + \",0)\"; })\n",
    "          .append(\"text\")\n",
    "            .attr(\"x\", 8)\n",
    "            .attr(\"dy\", \".35em\")\n",
    "            .attr(\"transform\", function(d) { return d.angle > Math.PI ? \"rotate(180) translate(-16)\" : null; })\n",
    "            .style(\"text-anchor\", function(d) { return d.angle > Math.PI ? \"end\" : null; })\n",
    "            .text(function(d) { return d.value })\n",
    "            .style(\"font-size\", 9)\n",
    "\n",
    "\n",
    "        // Returns an array of tick angles and values for a given group and step.\n",
    "        function groupTicks(d, step) {\n",
    "          var k = (d.endAngle - d.startAngle) / d.value;\n",
    "          return d3.range(0, d.value, step).map(function(value) {\n",
    "            return {value: value, angle: value * k + d.startAngle};\n",
    "          });\n",
    "        }\n",
    "\n",
    "            })\n",
    "})(element);"
   ]
  }
 ],
 "metadata": {
  "kernelspec": {
   "display_name": "Python 3",
   "language": "python",
   "name": "python3"
  },
  "language_info": {
   "codemirror_mode": {
    "name": "ipython",
    "version": 3
   },
   "file_extension": ".py",
   "mimetype": "text/x-python",
   "name": "python",
   "nbconvert_exporter": "python",
   "pygments_lexer": "ipython3",
   "version": "3.6.5"
  }
 },
 "nbformat": 4,
 "nbformat_minor": 2
}
